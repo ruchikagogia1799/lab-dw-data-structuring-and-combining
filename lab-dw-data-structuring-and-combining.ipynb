{
 "cells": [
  {
   "cell_type": "markdown",
   "id": "25d7736c-ba17-4aff-b6bb-66eba20fbf4e",
   "metadata": {
    "id": "25d7736c-ba17-4aff-b6bb-66eba20fbf4e"
   },
   "source": [
    "# Lab | Data Structuring and Combining Data"
   ]
  },
  {
   "cell_type": "markdown",
   "id": "a2cdfc70-44c8-478c-81e7-2bc43fdf4986",
   "metadata": {
    "id": "a2cdfc70-44c8-478c-81e7-2bc43fdf4986"
   },
   "source": [
    "## Challenge 1: Combining & Cleaning Data\n",
    "\n",
    "In this challenge, we will be working with the customer data from an insurance company, as we did in the two previous labs. The data can be found here:\n",
    "- https://raw.githubusercontent.com/data-bootcamp-v4/data/main/file1.csv\n",
    "\n",
    "But this time, we got new data, which can be found in the following 2 CSV files located at the links below.\n",
    "\n",
    "- https://raw.githubusercontent.com/data-bootcamp-v4/data/main/file2.csv\n",
    "- https://raw.githubusercontent.com/data-bootcamp-v4/data/main/file3.csv\n",
    "\n",
    "Note that you'll need to clean and format the new data.\n",
    "\n",
    "Observation:\n",
    "- One option is to first combine the three datasets and then apply the cleaning function to the new combined dataset\n",
    "- Another option would be to read the clean file you saved in the previous lab, and just clean the two new files and concatenate the three clean datasets"
   ]
  },
  {
   "cell_type": "code",
   "execution_count": 3,
   "id": "492d06e3-92c7-4105-ac72-536db98d3244",
   "metadata": {
    "id": "492d06e3-92c7-4105-ac72-536db98d3244"
   },
   "outputs": [],
   "source": [
    "import pandas as pd\n",
    "\n",
    "def clean_customer_data(df):\n",
    "    # Standardize column names\n",
    "    df.columns = (\n",
    "        df.columns.str.strip().str.lower().str.replace(\" \", \"_\")\n",
    "    )\n",
    "    \n",
    "    # Fix gender\n",
    "    if 'gender' in df.columns:\n",
    "        df['gender'] = df['gender'].str.strip().str.lower().replace({\n",
    "            'femal': 'f', 'female': 'f', 'f': 'f',\n",
    "            'male': 'm', 'm': 'm'\n",
    "        }).str.upper()\n",
    "    \n",
    "    # Fix state\n",
    "    if 'state' in df.columns:\n",
    "        df['state'] = df['state'].replace({\n",
    "            'AZ': 'Arizona', 'Cali': 'California', 'WA': 'Washington'\n",
    "        })\n",
    "    \n",
    "    # Fix education\n",
    "    if 'education' in df.columns:\n",
    "        df['education'] = df['education'].replace({'Bachelors': 'Bachelor'})\n",
    "\n",
    "    # Fix customer lifetime value\n",
    "    if 'customer_lifetime_value' in df.columns:\n",
    "        df['customer_lifetime_value'] = (\n",
    "            df['customer_lifetime_value']\n",
    "            .astype(str)\n",
    "            .str.replace('%', '', regex=False)\n",
    "        )\n",
    "        df['customer_lifetime_value'] = pd.to_numeric(df['customer_lifetime_value'], errors='coerce')\n",
    "\n",
    "    # Fix vehicle class\n",
    "    if 'vehicle_class' in df.columns:\n",
    "        df['vehicle_class'] = df['vehicle_class'].replace({\n",
    "            'Luxury SUV': 'Luxury', 'Luxury Car': 'Luxury', 'Sports Car': 'Luxury'\n",
    "        })\n",
    "\n",
    "    # Fix number_of_open_complaints\n",
    "    if 'number_of_open_complaints' in df.columns:\n",
    "        df['number_of_open_complaints'] = (\n",
    "            df['number_of_open_complaints']\n",
    "            .astype(str)\n",
    "            .str.split(\"/\")\n",
    "            .str[1]\n",
    "        )\n",
    "        df['number_of_open_complaints'] = pd.to_numeric(df['number_of_open_complaints'], errors='coerce')\n",
    "    \n",
    "    return df\n"
   ]
  },
  {
   "cell_type": "code",
   "execution_count": 9,
   "id": "23f88997",
   "metadata": {},
   "outputs": [],
   "source": [
    "# Load the files\n",
    "file3 = pd.read_csv(\"file3.csv\")\n",
    "file4 = pd.read_csv(\"file4.csv\")\n",
    "file5 = pd.read_csv(\"file5.csv\")\n",
    "\n",
    "# Clean each dataset\n",
    "file3_clean = clean_customer_data(file3)\n",
    "file4_clean = clean_customer_data(file4)\n",
    "file5_clean = clean_customer_data(file5)\n",
    "\n",
    "# Combine into one DataFrame\n",
    "combined_df = pd.concat([file3_clean, file4_clean, file5_clean], ignore_index=True)\n",
    "\n",
    "# Optional: save the cleaned data\n",
    "combined_df.to_csv(\"combined_cleaned_customer_data.csv\", index=False)\n"
   ]
  },
  {
   "cell_type": "markdown",
   "id": "31b8a9e7-7db9-4604-991b-ef6771603e57",
   "metadata": {
    "id": "31b8a9e7-7db9-4604-991b-ef6771603e57"
   },
   "source": [
    "# Challenge 2: Structuring Data"
   ]
  },
  {
   "cell_type": "markdown",
   "id": "a877fd6d-7a0c-46d2-9657-f25036e4ca4b",
   "metadata": {
    "id": "a877fd6d-7a0c-46d2-9657-f25036e4ca4b"
   },
   "source": [
    "In this challenge, we will continue to work with customer data from an insurance company, but we will use a dataset with more columns, called marketing_customer_analysis.csv, which can be found at the following link:\n",
    "\n",
    "https://raw.githubusercontent.com/data-bootcamp-v4/data/main/marketing_customer_analysis_clean.csv\n",
    "\n",
    "This dataset contains information such as customer demographics, policy details, vehicle information, and the customer's response to the last marketing campaign. Our goal is to explore and analyze this data by performing data cleaning, formatting, and structuring."
   ]
  },
  {
   "cell_type": "code",
   "execution_count": 11,
   "id": "aa10d9b0-1c27-4d3f-a8e4-db6ab73bfd26",
   "metadata": {
    "id": "aa10d9b0-1c27-4d3f-a8e4-db6ab73bfd26"
   },
   "outputs": [],
   "source": [
    "marketing_df = pd.read_csv(\"marketing_customer_analysis_clean.csv\")\n",
    "marketing_df.columns = marketing_df.columns.str.strip().str.lower().str.replace(\" \", \"_\")\n"
   ]
  },
  {
   "cell_type": "code",
   "execution_count": 16,
   "id": "a621cb3d",
   "metadata": {},
   "outputs": [
    {
     "name": "stdout",
     "output_type": "stream",
     "text": [
      " Total Revenue by Sales Channel:\n",
      "               total_claim_amount\n",
      "sales_channel                    \n",
      "Agent                  1810226.82\n",
      "Branch                 1301204.00\n",
      "Call Center             926600.82\n",
      "Web                     706600.04\n"
     ]
    }
   ],
   "source": [
    "revenue_by_channel = marketing_df.pivot_table(\n",
    "    index='sales_channel',\n",
    "    values='total_claim_amount',\n",
    "    aggfunc='sum'\n",
    ").round(2)\n",
    "\n",
    "print(\" Total Revenue by Sales Channel:\")\n",
    "print(revenue_by_channel)\n"
   ]
  },
  {
   "cell_type": "code",
   "execution_count": 18,
   "id": "f1a1c67c",
   "metadata": {},
   "outputs": [
    {
     "name": "stdout",
     "output_type": "stream",
     "text": [
      "\n",
      " Average Customer Lifetime Value by Gender & Education:\n",
      "education  Bachelor  College   Doctor  High School or Below   Master\n",
      "gender                                                              \n",
      "F           7874.27  7748.82  7328.51               8675.22  8157.05\n",
      "M           7703.60  8052.46  7415.33               8149.69  8168.83\n"
     ]
    }
   ],
   "source": [
    "clv_by_gender_education = marketing_df.pivot_table(\n",
    "    index='gender',\n",
    "    columns='education',\n",
    "    values='customer_lifetime_value',\n",
    "    aggfunc='mean'\n",
    ").round(2)\n",
    "\n",
    "print(\"\\n Average Customer Lifetime Value by Gender & Education:\")\n",
    "print(clv_by_gender_education)\n"
   ]
  },
  {
   "cell_type": "markdown",
   "id": "df35fd0d-513e-4e77-867e-429da10a9cc7",
   "metadata": {
    "id": "df35fd0d-513e-4e77-867e-429da10a9cc7"
   },
   "source": [
    "1. You work at the marketing department and you want to know which sales channel brought the most sales in terms of total revenue. Using pivot, create a summary table showing the total revenue for each sales channel (branch, call center, web, and mail).\n",
    "Round the total revenue to 2 decimal points.  Analyze the resulting table to draw insights."
   ]
  },
  {
   "cell_type": "markdown",
   "id": "640993b2-a291-436c-a34d-a551144f8196",
   "metadata": {
    "id": "640993b2-a291-436c-a34d-a551144f8196"
   },
   "source": [
    "2. Create a pivot table that shows the average customer lifetime value per gender and education level. Analyze the resulting table to draw insights."
   ]
  },
  {
   "cell_type": "markdown",
   "id": "32c7f2e5-3d90-43e5-be33-9781b6069198",
   "metadata": {
    "id": "32c7f2e5-3d90-43e5-be33-9781b6069198"
   },
   "source": [
    "## Bonus\n",
    "\n",
    "You work at the customer service department and you want to know which months had the highest number of complaints by policy type category. Create a summary table showing the number of complaints by policy type and month.\n",
    "Show it in a long format table."
   ]
  },
  {
   "cell_type": "markdown",
   "id": "e3d09a8f-953c-448a-a5f8-2e5a8cca7291",
   "metadata": {
    "id": "e3d09a8f-953c-448a-a5f8-2e5a8cca7291"
   },
   "source": [
    "*In data analysis, a long format table is a way of structuring data in which each observation or measurement is stored in a separate row of the table. The key characteristic of a long format table is that each column represents a single variable, and each row represents a single observation of that variable.*\n",
    "\n",
    "*More information about long and wide format tables here: https://www.statology.org/long-vs-wide-data/*"
   ]
  },
  {
   "cell_type": "code",
   "execution_count": 17,
   "id": "3a069e0b-b400-470e-904d-d17582191be4",
   "metadata": {
    "id": "3a069e0b-b400-470e-904d-d17582191be4"
   },
   "outputs": [
    {
     "name": "stdout",
     "output_type": "stream",
     "text": [
      "\n",
      " Complaints by Policy Type and Month (Long Format):\n",
      "      policy_type     month  total_complaints\n",
      "0  Corporate Auto  February        385.208135\n",
      "1  Corporate Auto   January        443.434952\n",
      "2   Personal Auto  February       1453.684441\n",
      "3   Personal Auto   January       1727.605722\n",
      "4    Special Auto  February         95.226817\n"
     ]
    }
   ],
   "source": [
    "# Your code goes here\n",
    "# Ensure date column is in datetime format\n",
    "marketing_df['effective_to_date'] = pd.to_datetime(marketing_df['effective_to_date'], errors='coerce')\n",
    "\n",
    "# Create 'month' column\n",
    "marketing_df['month'] = marketing_df['effective_to_date'].dt.month_name()\n",
    "\n",
    "# Group and reshape in long format\n",
    "complaints_summary = (\n",
    "    marketing_df.groupby(['policy_type', 'month'])['number_of_open_complaints']\n",
    "    .sum()\n",
    "    .reset_index(name='total_complaints')\n",
    ")\n",
    "\n",
    "print(\"\\n Complaints by Policy Type and Month (Long Format):\")\n",
    "print(complaints_summary.head())\n"
   ]
  },
  {
   "cell_type": "code",
   "execution_count": null,
   "id": "7b23e0cc",
   "metadata": {},
   "outputs": [],
   "source": []
  }
 ],
 "metadata": {
  "colab": {
   "provenance": []
  },
  "kernelspec": {
   "display_name": "base",
   "language": "python",
   "name": "python3"
  },
  "language_info": {
   "codemirror_mode": {
    "name": "ipython",
    "version": 3
   },
   "file_extension": ".py",
   "mimetype": "text/x-python",
   "name": "python",
   "nbconvert_exporter": "python",
   "pygments_lexer": "ipython3",
   "version": "3.12.7"
  }
 },
 "nbformat": 4,
 "nbformat_minor": 5
}
